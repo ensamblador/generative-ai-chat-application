{
 "cells": [
  {
   "cell_type": "code",
   "execution_count": 22,
   "metadata": {},
   "outputs": [],
   "source": [
    "import boto3\n",
    "import os\n",
    "from langchain.document_loaders import S3FileLoader,PyPDFLoader\n",
    "from langchain.text_splitter import RecursiveCharacterTextSplitter\n",
    "from langchain.vectorstores import Chroma\n",
    "import shutil\n",
    "import re\n",
    "import chromadb\n",
    "from langchain.chains import RetrievalQA\n",
    "\n",
    "from langchain.llms.bedrock import Bedrock\n",
    "\n",
    "\n",
    "from langchain.embeddings import BedrockEmbeddings \n",
    "\n",
    "\n",
    "model_kwargs = { \n",
    "    \"max_tokens_to_sample\": 1024, \n",
    "    \"temperature\": 1, \n",
    "    \"top_p\": 0.9, \n",
    "    \"stop_sequences\": [\"Human:\"]\n",
    "}\n",
    "\n",
    "default_model_id = \"anthropic.claude-instant-v1\"\n",
    "bedrock_base_kwargs = dict(model_id=default_model_id, model_kwargs= model_kwargs)\n",
    "\n",
    "llm = Bedrock(**bedrock_base_kwargs)\n",
    "\n",
    "\n",
    "bedrock_embeddings = BedrockEmbeddings(model_id=\"amazon.titan-embed-text-v1\")\n",
    "s3client = boto3.client('s3')\n",
    "s3_bucket = \"ac-genai-streamlitbucket2fe9c216-4t8poszaf1to\"\n",
    "s3_path = \"upload_files\"\n",
    "filename = \"Texto-aprobado-Consejo-Constitucional_06.10.23.pdf\"\n",
    "filename2 = \"Propuesta-Nueva-Constitucion.pdf\"\n",
    "\n",
    "\n",
    "\n",
    "text_splitter = RecursiveCharacterTextSplitter(\n",
    "    separators=[\"\\n\\n\", \"\\n\", \"\\. \", \" \", \"\"],\n",
    "    chunk_size=3000,\n",
    "    chunk_overlap=300,\n",
    "    length_function=len\n",
    ")\n",
    "\n",
    "\n",
    "def load_and_split_pdf(file_path):\n",
    "    loader = PyPDFLoader(file_path)\n",
    "    docs = loader.load_and_split(text_splitter)\n",
    "    return docs\n",
    "\n",
    "\n",
    "def produce_docs(s3_bucket, s3_keys):\n",
    "    all_docs = []\n",
    "    for s3_key in s3_keys:\n",
    "        print (f\"loading: {s3_key}\", end=\"\")\n",
    "        loader = S3FileLoader(s3_bucket, s3_key)\n",
    "        pages = loader.load()\n",
    "        print(len(pages[0].page_content), \"chars \", end=\"\")\n",
    "        docs = text_splitter.split_documents(pages)\n",
    "        print (len(docs), \"chunks\")\n",
    "\n",
    "        all_docs += docs\n",
    "    return all_docs\n",
    "\n",
    "def create_vectordb(name, docs):\n",
    "    \n",
    "    cleaned = re.sub(r'[^a-z0-9_]', '_', name.lower()) \n",
    "     \n",
    "    persist_directory = f\"./chroma/{cleaned}\"\n",
    "    if os.path.exists(persist_directory): shutil.rmtree(persist_directory)\n",
    "\n",
    "    vectordb = Chroma.from_documents(\n",
    "        documents=docs,\n",
    "        embedding=bedrock_embeddings,\n",
    "        persist_directory= f\"./chroma/{cleaned}\"\n",
    "    )\n",
    "    print(vectordb._collection.count())\n",
    "\n",
    "\n",
    "    return vectordb"
   ]
  },
  {
   "cell_type": "code",
   "execution_count": 2,
   "metadata": {},
   "outputs": [],
   "source": [
    "pdf_docs = load_and_split_pdf(\"./Propuesta-Nueva-Constitucion.pdf\")"
   ]
  },
  {
   "cell_type": "code",
   "execution_count": 3,
   "metadata": {},
   "outputs": [
    {
     "data": {
      "text/plain": [
       "182"
      ]
     },
     "execution_count": 3,
     "metadata": {},
     "output_type": "execute_result"
    }
   ],
   "source": [
    "len(pdf_docs)"
   ]
  },
  {
   "cell_type": "code",
   "execution_count": null,
   "metadata": {},
   "outputs": [],
   "source": []
  },
  {
   "cell_type": "code",
   "execution_count": 22,
   "metadata": {},
   "outputs": [],
   "source": []
  },
  {
   "cell_type": "code",
   "execution_count": 6,
   "metadata": {},
   "outputs": [
    {
     "name": "stdout",
     "output_type": "stream",
     "text": [
      "CPU times: user 2 µs, sys: 1e+03 ns, total: 3 µs\n",
      "Wall time: 5.72 µs\n"
     ]
    },
    {
     "data": {
      "text/plain": [
       "364"
      ]
     },
     "execution_count": 6,
     "metadata": {},
     "output_type": "execute_result"
    }
   ],
   "source": [
    "%time\n",
    "vctor_store = Chroma(embedding_function=bedrock_embeddings)\n",
    "vctor_store.add_documents( documents=pdf_docs)\n",
    "vctor_store._collection.count()"
   ]
  },
  {
   "cell_type": "code",
   "execution_count": 4,
   "metadata": {},
   "outputs": [
    {
     "data": {
      "text/plain": [
       "(182, 11, 18, 2)"
      ]
     },
     "execution_count": 4,
     "metadata": {},
     "output_type": "execute_result"
    }
   ],
   "source": [
    "n = 18\n",
    "chunks = [pdf_docs[i:i+n] for i in range(0, len(pdf_docs), n)]\n",
    "len (pdf_docs), len(chunks), len(chunks[0]), len(chunks[-1])"
   ]
  },
  {
   "cell_type": "code",
   "execution_count": 5,
   "metadata": {},
   "outputs": [
    {
     "name": "stdout",
     "output_type": "stream",
     "text": [
      "CPU times: user 3 µs, sys: 1e+03 ns, total: 4 µs\n",
      "Wall time: 10 µs\n"
     ]
    },
    {
     "data": {
      "text/plain": [
       "182"
      ]
     },
     "execution_count": 5,
     "metadata": {},
     "output_type": "execute_result"
    }
   ],
   "source": [
    "%time\n",
    "vctor_store = Chroma(embedding_function=bedrock_embeddings)\n",
    "for chunk in chunks:\n",
    "    vctor_store.add_documents( documents=chunk )\n",
    "\n",
    "vctor_store._collection.count()"
   ]
  },
  {
   "cell_type": "code",
   "execution_count": null,
   "metadata": {},
   "outputs": [],
   "source": []
  },
  {
   "cell_type": "code",
   "execution_count": 10,
   "metadata": {},
   "outputs": [],
   "source": [
    "res = await vctor_store.aadd_documents( documents=pdf_docs )"
   ]
  },
  {
   "cell_type": "code",
   "execution_count": 12,
   "metadata": {},
   "outputs": [
    {
     "data": {
      "text/plain": [
       "182"
      ]
     },
     "execution_count": 12,
     "metadata": {},
     "output_type": "execute_result"
    }
   ],
   "source": [
    "vctor_store._collection.count()"
   ]
  },
  {
   "cell_type": "code",
   "execution_count": 16,
   "metadata": {},
   "outputs": [
    {
     "data": {
      "text/plain": [
       "<coroutine object add_docs at 0x1224d3ac0>"
      ]
     },
     "execution_count": 16,
     "metadata": {},
     "output_type": "execute_result"
    }
   ],
   "source": [
    "async def add_docs(vectordb, docs):\n",
    "    await vectordb.aadd_documents( documents=docs )\n",
    "\n",
    "add_docs(vctor_store, pdf_docs)"
   ]
  },
  {
   "cell_type": "code",
   "execution_count": 42,
   "metadata": {},
   "outputs": [
    {
     "data": {
      "text/plain": [
       "0"
      ]
     },
     "execution_count": 42,
     "metadata": {},
     "output_type": "execute_result"
    }
   ],
   "source": [
    "vctor_store._collection.count()"
   ]
  },
  {
   "cell_type": "code",
   "execution_count": 2,
   "metadata": {},
   "outputs": [
    {
     "name": "stdout",
     "output_type": "stream",
     "text": [
      "loading: upload_files/Texto-aprobado-Consejo-Constitucional_06.10.23.pdf"
     ]
    },
    {
     "name": "stderr",
     "output_type": "stream",
     "text": [
      "/Users/ensamblador/Documents/generative-ai-chat-application/03-personal-assistant-add-data/.venv/lib/python3.11/site-packages/tqdm/auto.py:21: TqdmWarning: IProgress not found. Please update jupyter and ipywidgets. See https://ipywidgets.readthedocs.io/en/stable/user_install.html\n",
      "  from .autonotebook import tqdm as notebook_tqdm\n"
     ]
    },
    {
     "name": "stdout",
     "output_type": "stream",
     "text": [
      "321913 chars 119 chunks\n",
      "loading: upload_files/Propuesta-Nueva-Constitucion.pdf328036 chars 122 chunks\n"
     ]
    },
    {
     "data": {
      "text/plain": [
       "241"
      ]
     },
     "execution_count": 2,
     "metadata": {},
     "output_type": "execute_result"
    }
   ],
   "source": [
    "docs = produce_docs(s3_bucket, [ f\"{s3_path}/{filename}\",  f\"{s3_path}/{filename2}\"])\n",
    "len (docs)"
   ]
  },
  {
   "cell_type": "code",
   "execution_count": 3,
   "metadata": {},
   "outputs": [
    {
     "name": "stdout",
     "output_type": "stream",
     "text": [
      "241\n"
     ]
    }
   ],
   "source": [
    "vdb = create_vectordb(\"constitución\", docs)"
   ]
  },
  {
   "cell_type": "code",
   "execution_count": 6,
   "metadata": {},
   "outputs": [
    {
     "data": {
      "text/plain": [
       "241"
      ]
     },
     "execution_count": 6,
     "metadata": {},
     "output_type": "execute_result"
    }
   ],
   "source": [
    "vdb._collection.count()"
   ]
  },
  {
   "cell_type": "code",
   "execution_count": 9,
   "metadata": {},
   "outputs": [],
   "source": [
    "persistent_client = chromadb.PersistentClient()\n"
   ]
  },
  {
   "cell_type": "code",
   "execution_count": 13,
   "metadata": {},
   "outputs": [
    {
     "name": "stdout",
     "output_type": "stream",
     "text": [
      "0\n"
     ]
    }
   ],
   "source": [
    "\n",
    "def create_vectordb(persistent_client, name):\n",
    "    persist_directory = f\"./chroma/{name}\"\n",
    "    if os.path.exists(persist_directory): shutil.rmtree(persist_directory)\n",
    "    vectordb = Chroma(client=persistent_client, \n",
    "                      embedding_function=bedrock_embeddings,collection_name=name)\n",
    "    print(vectordb._collection.count())\n",
    "    return vectordb\n",
    "\n",
    "\n",
    "vdb = create_vectordb(persistent_client, \"prueba\")"
   ]
  },
  {
   "cell_type": "code",
   "execution_count": 16,
   "metadata": {},
   "outputs": [],
   "source": [
    "collection = persistent_client.get_collection(name= \"prueba\")"
   ]
  },
  {
   "cell_type": "code",
   "execution_count": 23,
   "metadata": {},
   "outputs": [],
   "source": [
    "retriever= vdb.as_retriever(search_type = \"mmr\",  search_kwargs={\"k\": 5})\n",
    "qa_chain = RetrievalQA.from_chain_type( llm, verbose=True, retriever=retriever)"
   ]
  },
  {
   "cell_type": "code",
   "execution_count": 25,
   "metadata": {},
   "outputs": [
    {
     "data": {
      "text/plain": [
       "RetrievalQA(verbose=True, combine_documents_chain=StuffDocumentsChain(llm_chain=LLMChain(prompt=PromptTemplate(input_variables=['context', 'question'], template=\"Use the following pieces of context to answer the question at the end. If you don't know the answer, just say that you don't know, don't try to make up an answer.\\n\\n{context}\\n\\nQuestion: {question}\\nHelpful Answer:\"), llm=Bedrock(client=<botocore.client.BedrockRuntime object at 0x12b7b5490>, model_id='anthropic.claude-instant-v1', model_kwargs={'max_tokens_to_sample': 1024, 'temperature': 1, 'top_p': 0.9, 'stop_sequences': ['Human:']})), document_variable_name='context'), retriever=VectorStoreRetriever(tags=['Chroma', 'BedrockEmbeddings'], vectorstore=<langchain.vectorstores.chroma.Chroma object at 0x126cf1090>, search_type='mmr', search_kwargs={'k': 5}))"
      ]
     },
     "execution_count": 25,
     "metadata": {},
     "output_type": "execute_result"
    }
   ],
   "source": [
    "qa_chain"
   ]
  },
  {
   "cell_type": "code",
   "execution_count": 24,
   "metadata": {},
   "outputs": [
    {
     "name": "stdout",
     "output_type": "stream",
     "text": [
      "\n",
      "\n",
      "\u001b[1m> Entering new RetrievalQA chain...\u001b[0m\n",
      "\n",
      "\u001b[1m> Finished chain.\u001b[0m\n"
     ]
    },
    {
     "data": {
      "text/plain": [
       "' No sé la respuesta a esta pregunta.'"
      ]
     },
     "execution_count": 24,
     "metadata": {},
     "output_type": "execute_result"
    }
   ],
   "source": [
    "qa_chain.run({\"query\": \"como funciona el congreso?\"})"
   ]
  },
  {
   "cell_type": "code",
   "execution_count": 46,
   "metadata": {},
   "outputs": [
    {
     "name": "stdout",
     "output_type": "stream",
     "text": [
      "upload_files/Propuesta-Nueva-Constitucion.pdf\n"
     ]
    }
   ],
   "source": [
    "filename2 = \"Propuesta-Nueva-Constitucion.pdf\"\n",
    "\n",
    "destination_key2 = f\"{s3_path}/{filename2}\"\n",
    "print (destination_key2)\n",
    "            \n",
    "loader2 = S3FileLoader(s3_bucket, destination_key2)"
   ]
  },
  {
   "cell_type": "code",
   "execution_count": 47,
   "metadata": {},
   "outputs": [],
   "source": [
    "pages2 = loader2.load()"
   ]
  },
  {
   "cell_type": "code",
   "execution_count": 48,
   "metadata": {},
   "outputs": [
    {
     "data": {
      "text/plain": [
       "(328036, 1)"
      ]
     },
     "execution_count": 48,
     "metadata": {},
     "output_type": "execute_result"
    }
   ],
   "source": [
    "len(pages2[0].page_content), len(pages2)"
   ]
  },
  {
   "cell_type": "code",
   "execution_count": 49,
   "metadata": {},
   "outputs": [
    {
     "data": {
      "text/plain": [
       "122"
      ]
     },
     "execution_count": 49,
     "metadata": {},
     "output_type": "execute_result"
    }
   ],
   "source": [
    "docs2 = text_splitter.split_documents(pages2)\n",
    "len(docs2)"
   ]
  },
  {
   "cell_type": "code",
   "execution_count": 50,
   "metadata": {},
   "outputs": [
    {
     "data": {
      "text/plain": [
       "['aaabc6f6-821a-11ee-b28b-88e9fe797c27',\n",
       " 'aaabc8f4-821a-11ee-b28b-88e9fe797c27',\n",
       " 'aaabc99e-821a-11ee-b28b-88e9fe797c27',\n",
       " 'aaabc9f8-821a-11ee-b28b-88e9fe797c27',\n",
       " 'aaabca48-821a-11ee-b28b-88e9fe797c27',\n",
       " 'aaabca98-821a-11ee-b28b-88e9fe797c27',\n",
       " 'aaabcaf2-821a-11ee-b28b-88e9fe797c27',\n",
       " 'aaabcb4c-821a-11ee-b28b-88e9fe797c27',\n",
       " 'aaabcb9c-821a-11ee-b28b-88e9fe797c27',\n",
       " 'aaabcbec-821a-11ee-b28b-88e9fe797c27',\n",
       " 'aaabcc32-821a-11ee-b28b-88e9fe797c27',\n",
       " 'aaabcc78-821a-11ee-b28b-88e9fe797c27',\n",
       " 'aaabccb4-821a-11ee-b28b-88e9fe797c27',\n",
       " 'aaabccfa-821a-11ee-b28b-88e9fe797c27',\n",
       " 'aaabcd40-821a-11ee-b28b-88e9fe797c27',\n",
       " 'aaabcd86-821a-11ee-b28b-88e9fe797c27',\n",
       " 'aaabcdcc-821a-11ee-b28b-88e9fe797c27',\n",
       " 'aaabce12-821a-11ee-b28b-88e9fe797c27',\n",
       " 'aaabce4e-821a-11ee-b28b-88e9fe797c27',\n",
       " 'aaabce8a-821a-11ee-b28b-88e9fe797c27',\n",
       " 'aaabcec6-821a-11ee-b28b-88e9fe797c27',\n",
       " 'aaabcf0c-821a-11ee-b28b-88e9fe797c27',\n",
       " 'aaabcf48-821a-11ee-b28b-88e9fe797c27',\n",
       " 'aaabd038-821a-11ee-b28b-88e9fe797c27',\n",
       " 'aaabd088-821a-11ee-b28b-88e9fe797c27',\n",
       " 'aaabd0ce-821a-11ee-b28b-88e9fe797c27',\n",
       " 'aaabd182-821a-11ee-b28b-88e9fe797c27',\n",
       " 'aaabd1c8-821a-11ee-b28b-88e9fe797c27',\n",
       " 'aaabd20e-821a-11ee-b28b-88e9fe797c27',\n",
       " 'aaabd254-821a-11ee-b28b-88e9fe797c27',\n",
       " 'aaabd290-821a-11ee-b28b-88e9fe797c27',\n",
       " 'aaabd3b2-821a-11ee-b28b-88e9fe797c27',\n",
       " 'aaabd43e-821a-11ee-b28b-88e9fe797c27',\n",
       " 'aaabd48e-821a-11ee-b28b-88e9fe797c27',\n",
       " 'aaabd4de-821a-11ee-b28b-88e9fe797c27',\n",
       " 'aaabd52e-821a-11ee-b28b-88e9fe797c27',\n",
       " 'aaabd57e-821a-11ee-b28b-88e9fe797c27',\n",
       " 'aaabd5d8-821a-11ee-b28b-88e9fe797c27',\n",
       " 'aaabd628-821a-11ee-b28b-88e9fe797c27',\n",
       " 'aaabd678-821a-11ee-b28b-88e9fe797c27',\n",
       " 'aaabd6c8-821a-11ee-b28b-88e9fe797c27',\n",
       " 'aaabd722-821a-11ee-b28b-88e9fe797c27',\n",
       " 'aaabd772-821a-11ee-b28b-88e9fe797c27',\n",
       " 'aaabd7c2-821a-11ee-b28b-88e9fe797c27',\n",
       " 'aaabd812-821a-11ee-b28b-88e9fe797c27',\n",
       " 'aaabd862-821a-11ee-b28b-88e9fe797c27',\n",
       " 'aaabd8b2-821a-11ee-b28b-88e9fe797c27',\n",
       " 'aaabd902-821a-11ee-b28b-88e9fe797c27',\n",
       " 'aaabd95c-821a-11ee-b28b-88e9fe797c27',\n",
       " 'aaabd9ac-821a-11ee-b28b-88e9fe797c27',\n",
       " 'aaabd9fc-821a-11ee-b28b-88e9fe797c27',\n",
       " 'aaabda4c-821a-11ee-b28b-88e9fe797c27',\n",
       " 'aaabda9c-821a-11ee-b28b-88e9fe797c27',\n",
       " 'aaabdaec-821a-11ee-b28b-88e9fe797c27',\n",
       " 'aaabdb32-821a-11ee-b28b-88e9fe797c27',\n",
       " 'aaabdb78-821a-11ee-b28b-88e9fe797c27',\n",
       " 'aaabdbc8-821a-11ee-b28b-88e9fe797c27',\n",
       " 'aaabdc86-821a-11ee-b28b-88e9fe797c27',\n",
       " 'aaabdcd6-821a-11ee-b28b-88e9fe797c27',\n",
       " 'aaabdd12-821a-11ee-b28b-88e9fe797c27',\n",
       " 'aaabdd58-821a-11ee-b28b-88e9fe797c27',\n",
       " 'aaabdd9e-821a-11ee-b28b-88e9fe797c27',\n",
       " 'aaabdde4-821a-11ee-b28b-88e9fe797c27',\n",
       " 'aaabde20-821a-11ee-b28b-88e9fe797c27',\n",
       " 'aaabde66-821a-11ee-b28b-88e9fe797c27',\n",
       " 'aaabdeb6-821a-11ee-b28b-88e9fe797c27',\n",
       " 'aaabdefc-821a-11ee-b28b-88e9fe797c27',\n",
       " 'aaabdf4c-821a-11ee-b28b-88e9fe797c27',\n",
       " 'aaabdf88-821a-11ee-b28b-88e9fe797c27',\n",
       " 'aaabdfce-821a-11ee-b28b-88e9fe797c27',\n",
       " 'aaabe014-821a-11ee-b28b-88e9fe797c27',\n",
       " 'aaabe064-821a-11ee-b28b-88e9fe797c27',\n",
       " 'aaabe0aa-821a-11ee-b28b-88e9fe797c27',\n",
       " 'aaabe0f0-821a-11ee-b28b-88e9fe797c27',\n",
       " 'aaabe136-821a-11ee-b28b-88e9fe797c27',\n",
       " 'aaabe17c-821a-11ee-b28b-88e9fe797c27',\n",
       " 'aaabe1c2-821a-11ee-b28b-88e9fe797c27',\n",
       " 'aaabe230-821a-11ee-b28b-88e9fe797c27',\n",
       " 'aaabe280-821a-11ee-b28b-88e9fe797c27',\n",
       " 'aaabe2d0-821a-11ee-b28b-88e9fe797c27',\n",
       " 'aaabe320-821a-11ee-b28b-88e9fe797c27',\n",
       " 'aaabe370-821a-11ee-b28b-88e9fe797c27',\n",
       " 'aaabe3c0-821a-11ee-b28b-88e9fe797c27',\n",
       " 'aaabe406-821a-11ee-b28b-88e9fe797c27',\n",
       " 'aaabe456-821a-11ee-b28b-88e9fe797c27',\n",
       " 'aaabe49c-821a-11ee-b28b-88e9fe797c27',\n",
       " 'aaabe4ec-821a-11ee-b28b-88e9fe797c27',\n",
       " 'aaabe532-821a-11ee-b28b-88e9fe797c27',\n",
       " 'aaabe578-821a-11ee-b28b-88e9fe797c27',\n",
       " 'aaabe5c8-821a-11ee-b28b-88e9fe797c27',\n",
       " 'aaabe60e-821a-11ee-b28b-88e9fe797c27',\n",
       " 'aaabe65e-821a-11ee-b28b-88e9fe797c27',\n",
       " 'aaabe6a4-821a-11ee-b28b-88e9fe797c27',\n",
       " 'aaabe6f4-821a-11ee-b28b-88e9fe797c27',\n",
       " 'aaabe73a-821a-11ee-b28b-88e9fe797c27',\n",
       " 'aaabe780-821a-11ee-b28b-88e9fe797c27',\n",
       " 'aaabe7c6-821a-11ee-b28b-88e9fe797c27',\n",
       " 'aaabe80c-821a-11ee-b28b-88e9fe797c27',\n",
       " 'aaabe848-821a-11ee-b28b-88e9fe797c27',\n",
       " 'aaabe9ec-821a-11ee-b28b-88e9fe797c27',\n",
       " 'aaabea5a-821a-11ee-b28b-88e9fe797c27',\n",
       " 'aaabea8c-821a-11ee-b28b-88e9fe797c27',\n",
       " 'aaabeab4-821a-11ee-b28b-88e9fe797c27',\n",
       " 'aaabeadc-821a-11ee-b28b-88e9fe797c27',\n",
       " 'aaabeb04-821a-11ee-b28b-88e9fe797c27',\n",
       " 'aaabeb2c-821a-11ee-b28b-88e9fe797c27',\n",
       " 'aaabeb54-821a-11ee-b28b-88e9fe797c27',\n",
       " 'aaabeb7c-821a-11ee-b28b-88e9fe797c27',\n",
       " 'aaabeba4-821a-11ee-b28b-88e9fe797c27',\n",
       " 'aaabebe0-821a-11ee-b28b-88e9fe797c27',\n",
       " 'aaabece4-821a-11ee-b28b-88e9fe797c27',\n",
       " 'aaabed52-821a-11ee-b28b-88e9fe797c27',\n",
       " 'aaabed98-821a-11ee-b28b-88e9fe797c27',\n",
       " 'aaabedd4-821a-11ee-b28b-88e9fe797c27',\n",
       " 'aaabee1a-821a-11ee-b28b-88e9fe797c27',\n",
       " 'aaabee60-821a-11ee-b28b-88e9fe797c27',\n",
       " 'aaabefa0-821a-11ee-b28b-88e9fe797c27',\n",
       " 'aaabefd2-821a-11ee-b28b-88e9fe797c27',\n",
       " 'aaabeffa-821a-11ee-b28b-88e9fe797c27',\n",
       " 'aaabf022-821a-11ee-b28b-88e9fe797c27',\n",
       " 'aaabf04a-821a-11ee-b28b-88e9fe797c27',\n",
       " 'aaabf072-821a-11ee-b28b-88e9fe797c27']"
      ]
     },
     "execution_count": 50,
     "metadata": {},
     "output_type": "execute_result"
    }
   ],
   "source": [
    "vectordb.add_documents(docs2)"
   ]
  },
  {
   "cell_type": "code",
   "execution_count": 52,
   "metadata": {},
   "outputs": [
    {
     "data": {
      "text/plain": [
       "241"
      ]
     },
     "execution_count": 52,
     "metadata": {},
     "output_type": "execute_result"
    }
   ],
   "source": [
    "119+122"
   ]
  },
  {
   "cell_type": "code",
   "execution_count": 53,
   "metadata": {},
   "outputs": [],
   "source": [
    "docs_mmr = vectordb.max_marginal_relevance_search(\"Como funciona el congreso?\",k=8)"
   ]
  },
  {
   "cell_type": "code",
   "execution_count": 55,
   "metadata": {},
   "outputs": [
    {
     "name": "stdout",
     "output_type": "stream",
     "text": [
      "{'source': 's3://ac-genai-streamlitbucket2fe9c216-4t8poszaf1to/upload_files/Texto-aprobado-Consejo-Constitucional_06.10.23.pdf'}\n",
      "{'source': 's3://ac-genai-streamlitbucket2fe9c216-4t8poszaf1to/upload_files/Texto-aprobado-Consejo-Constitucional_06.10.23.pdf'}\n",
      "{'source': 's3://ac-genai-streamlitbucket2fe9c216-4t8poszaf1to/upload_files/Propuesta-Nueva-Constitucion.pdf'}\n",
      "{'source': 's3://ac-genai-streamlitbucket2fe9c216-4t8poszaf1to/upload_files/Propuesta-Nueva-Constitucion.pdf'}\n",
      "{'source': 's3://ac-genai-streamlitbucket2fe9c216-4t8poszaf1to/upload_files/Propuesta-Nueva-Constitucion.pdf'}\n",
      "{'source': 's3://ac-genai-streamlitbucket2fe9c216-4t8poszaf1to/upload_files/Propuesta-Nueva-Constitucion.pdf'}\n",
      "{'source': 's3://ac-genai-streamlitbucket2fe9c216-4t8poszaf1to/upload_files/Texto-aprobado-Consejo-Constitucional_06.10.23.pdf'}\n",
      "{'source': 's3://ac-genai-streamlitbucket2fe9c216-4t8poszaf1to/upload_files/Propuesta-Nueva-Constitucion.pdf'}\n"
     ]
    }
   ],
   "source": [
    "for d in docs_mmr:\n",
    "    print(d.metadata)"
   ]
  },
  {
   "cell_type": "code",
   "execution_count": null,
   "metadata": {},
   "outputs": [],
   "source": []
  }
 ],
 "metadata": {
  "kernelspec": {
   "display_name": ".venv",
   "language": "python",
   "name": "python3"
  },
  "language_info": {
   "codemirror_mode": {
    "name": "ipython",
    "version": 3
   },
   "file_extension": ".py",
   "mimetype": "text/x-python",
   "name": "python",
   "nbconvert_exporter": "python",
   "pygments_lexer": "ipython3",
   "version": "3.11.5"
  }
 },
 "nbformat": 4,
 "nbformat_minor": 2
}
